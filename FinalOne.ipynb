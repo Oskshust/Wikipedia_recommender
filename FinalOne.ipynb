{
 "cells": [
  {
   "cell_type": "markdown",
   "metadata": {},
   "source": [
    "* Oskar Szudzik 148245\n",
    "* Krystian Moras 148243"
   ]
  },
  {
   "cell_type": "markdown",
   "metadata": {},
   "source": [
    "Our first step was to download articles from Wikipedia and save them in .csv file. You can find more code of the preprocessing in pipeline.py"
   ]
  },
  {
   "cell_type": "markdown",
   "metadata": {},
   "source": [
    "Now, we need to load this data"
   ]
  },
  {
   "cell_type": "code",
   "execution_count": 1,
   "metadata": {},
   "outputs": [],
   "source": [
    "import pandas as pd\n",
    "from sklearn.feature_extraction.text import CountVectorizer, TfidfVectorizer\n",
    "import numpy as np\n",
    "from scipy.spatial.distance import cosine"
   ]
  },
  {
   "cell_type": "code",
   "execution_count": 2,
   "metadata": {},
   "outputs": [
    {
     "data": {
      "text/html": [
       "<div>\n",
       "<style scoped>\n",
       "    .dataframe tbody tr th:only-of-type {\n",
       "        vertical-align: middle;\n",
       "    }\n",
       "\n",
       "    .dataframe tbody tr th {\n",
       "        vertical-align: top;\n",
       "    }\n",
       "\n",
       "    .dataframe thead th {\n",
       "        text-align: right;\n",
       "    }\n",
       "</style>\n",
       "<table border=\"1\" class=\"dataframe\">\n",
       "  <thead>\n",
       "    <tr style=\"text-align: right;\">\n",
       "      <th></th>\n",
       "      <th>title</th>\n",
       "      <th>summary</th>\n",
       "      <th>links</th>\n",
       "      <th>categories</th>\n",
       "      <th>references</th>\n",
       "    </tr>\n",
       "  </thead>\n",
       "  <tbody>\n",
       "    <tr>\n",
       "      <th>0</th>\n",
       "      <td>Psilocybe yungensis</td>\n",
       "      <td>psilocybe yungensis is a species of psychedeli...</td>\n",
       "      <td>Agaricales|Agaricomycetes|Alexander H. Smith|A...</td>\n",
       "      <td>Articles with 'species' microformats|Articles ...</td>\n",
       "      <td>http://www.fungimag.com/summer-2011-articles/F...</td>\n",
       "    </tr>\n",
       "    <tr>\n",
       "      <th>1</th>\n",
       "      <td>Mian Rud, South Khorasan</td>\n",
       "      <td>mian rud (persian: ميان رود, also romanized as...</td>\n",
       "      <td>Abbasabad, Doreh|Abbasabad, Momenabad|Administ...</td>\n",
       "      <td>All stub articles|Articles containing Persian-...</td>\n",
       "      <td>http://geonames.nga.mil/namesgaz/|http://geoha...</td>\n",
       "    </tr>\n",
       "    <tr>\n",
       "      <th>2</th>\n",
       "      <td>Coat of arms of Hesse</td>\n",
       "      <td>the coat of arms of the  german state of hesse...</td>\n",
       "      <td>Armiger|Blazon|Coat of arms|Coat of arms of An...</td>\n",
       "      <td>All stub articles|Articles with short descript...</td>\n",
       "      <td>https://www.hessen.de/fuer-besucher/70-jahre-h...</td>\n",
       "    </tr>\n",
       "    <tr>\n",
       "      <th>3</th>\n",
       "      <td>Helsinki Police Department</td>\n",
       "      <td>the helsinki police department (hpd) (finnish:...</td>\n",
       "      <td>2018 Russia–United States summit|8th World Fes...</td>\n",
       "      <td>Government agencies established in 1826|Law en...</td>\n",
       "      <td>http://tass.com/politics/1013215/amp|https://b...</td>\n",
       "    </tr>\n",
       "    <tr>\n",
       "      <th>4</th>\n",
       "      <td>Broadway Stages</td>\n",
       "      <td>broadway stages, ltd. is one of new york’s ful...</td>\n",
       "      <td>Annadale, Staten Island|Arden Heights, Staten ...</td>\n",
       "      <td>1983 establishments in New York City|American ...</td>\n",
       "      <td>http://Broadway-Stages.com/|http://www.broadwa...</td>\n",
       "    </tr>\n",
       "  </tbody>\n",
       "</table>\n",
       "</div>"
      ],
      "text/plain": [
       "                        title  \\\n",
       "0         Psilocybe yungensis   \n",
       "1    Mian Rud, South Khorasan   \n",
       "2       Coat of arms of Hesse   \n",
       "3  Helsinki Police Department   \n",
       "4             Broadway Stages   \n",
       "\n",
       "                                             summary  \\\n",
       "0  psilocybe yungensis is a species of psychedeli...   \n",
       "1  mian rud (persian: ميان رود, also romanized as...   \n",
       "2  the coat of arms of the  german state of hesse...   \n",
       "3  the helsinki police department (hpd) (finnish:...   \n",
       "4  broadway stages, ltd. is one of new york’s ful...   \n",
       "\n",
       "                                               links  \\\n",
       "0  Agaricales|Agaricomycetes|Alexander H. Smith|A...   \n",
       "1  Abbasabad, Doreh|Abbasabad, Momenabad|Administ...   \n",
       "2  Armiger|Blazon|Coat of arms|Coat of arms of An...   \n",
       "3  2018 Russia–United States summit|8th World Fes...   \n",
       "4  Annadale, Staten Island|Arden Heights, Staten ...   \n",
       "\n",
       "                                          categories  \\\n",
       "0  Articles with 'species' microformats|Articles ...   \n",
       "1  All stub articles|Articles containing Persian-...   \n",
       "2  All stub articles|Articles with short descript...   \n",
       "3  Government agencies established in 1826|Law en...   \n",
       "4  1983 establishments in New York City|American ...   \n",
       "\n",
       "                                          references  \n",
       "0  http://www.fungimag.com/summer-2011-articles/F...  \n",
       "1  http://geonames.nga.mil/namesgaz/|http://geoha...  \n",
       "2  https://www.hessen.de/fuer-besucher/70-jahre-h...  \n",
       "3  http://tass.com/politics/1013215/amp|https://b...  \n",
       "4  http://Broadway-Stages.com/|http://www.broadwa...  "
      ]
     },
     "execution_count": 2,
     "metadata": {},
     "output_type": "execute_result"
    }
   ],
   "source": [
    "data = pd.read_csv('wikipedia.csv', header=0)\n",
    "data.head()"
   ]
  },
  {
   "cell_type": "markdown",
   "metadata": {},
   "source": [
    "We will perform TF-IDF for summary of articles. To later propose similar articles to ones liked by a client."
   ]
  },
  {
   "cell_type": "code",
   "execution_count": 3,
   "metadata": {},
   "outputs": [
    {
     "data": {
      "text/plain": [
       "'psilocybe yungensis is a species of psychedelic mushroom in the family hymenogastraceae. in north america, it is found in northeast, central and southeastern mexico. in south america, it has been recorded from bolivia, colombia, and ecuador. it is also known from the caribbean island martinique, and china. the mushroom grows in clusters or groups on rotting wood. the fruit bodies have conical to bell-shaped reddish- to orangish-brown caps that are up to 2.5 cm (1.0 in) in diameter, set atop slender stems 3 to 5 cm (1.2 to 2.0 in) long. the mushrooms stain blue when bruised, indicative of the presence of the compound psilocybin. psilocybe yungensis is used by mazatec indians in the mexican state of oaxaca for entheogenic purposes.'"
      ]
     },
     "execution_count": 3,
     "metadata": {},
     "output_type": "execute_result"
    }
   ],
   "source": [
    "article = data.iloc[0]\n",
    "article.summary"
   ]
  },
  {
   "cell_type": "code",
   "execution_count": 4,
   "metadata": {},
   "outputs": [
    {
     "data": {
      "text/plain": [
       "array(['psilocybe yungensis is a species of psychedelic mushroom in the family hymenogastraceae. in north america, it is found in northeast, central and southeastern mexico. in south america, it has been recorded from bolivia, colombia, and ecuador. it is also known from the caribbean island martinique, and china. the mushroom grows in clusters or groups on rotting wood. the fruit bodies have conical to bell-shaped reddish- to orangish-brown caps that are up to 2.5 cm (1.0 in) in diameter, set atop slender stems 3 to 5 cm (1.2 to 2.0 in) long. the mushrooms stain blue when bruised, indicative of the presence of the compound psilocybin. psilocybe yungensis is used by mazatec indians in the mexican state of oaxaca for entheogenic purposes.',\n",
       "       'mian rud (persian: ميان رود, also romanized as mīān rūd, meyan rūd, and miyan rood; also known as kalāteh miyānrūd and kalāteh-ye mīān rūd) is a village in naharjan rural district, mud district, sarbisheh county, south khorasan province, iran. at the 2006 census, its population was 193, in 63 families.'],\n",
       "      dtype=object)"
      ]
     },
     "execution_count": 4,
     "metadata": {},
     "output_type": "execute_result"
    }
   ],
   "source": [
    "articles = np.array(data.title)\n",
    "\n",
    "summaries = np.array(data.summary)\n",
    "summaries[:2]"
   ]
  },
  {
   "cell_type": "code",
   "execution_count": 5,
   "metadata": {},
   "outputs": [
    {
     "data": {
      "text/html": [
       "<div>\n",
       "<style scoped>\n",
       "    .dataframe tbody tr th:only-of-type {\n",
       "        vertical-align: middle;\n",
       "    }\n",
       "\n",
       "    .dataframe tbody tr th {\n",
       "        vertical-align: top;\n",
       "    }\n",
       "\n",
       "    .dataframe thead th {\n",
       "        text-align: right;\n",
       "    }\n",
       "</style>\n",
       "<table border=\"1\" class=\"dataframe\">\n",
       "  <thead>\n",
       "    <tr style=\"text-align: right;\">\n",
       "      <th></th>\n",
       "      <th>000</th>\n",
       "      <th>048</th>\n",
       "      <th>10</th>\n",
       "      <th>100</th>\n",
       "      <th>104</th>\n",
       "      <th>11</th>\n",
       "      <th>11th</th>\n",
       "      <th>12</th>\n",
       "      <th>122</th>\n",
       "      <th>1245</th>\n",
       "      <th>...</th>\n",
       "      <th>žigajevs</th>\n",
       "      <th>γεώργιος</th>\n",
       "      <th>ματσαδές</th>\n",
       "      <th>лука</th>\n",
       "      <th>اباد</th>\n",
       "      <th>الوجه</th>\n",
       "      <th>رحيم</th>\n",
       "      <th>رود</th>\n",
       "      <th>ميان</th>\n",
       "      <th>李莹</th>\n",
       "    </tr>\n",
       "  </thead>\n",
       "  <tbody>\n",
       "    <tr>\n",
       "      <th>Psilocybe yungensis</th>\n",
       "      <td>0.0</td>\n",
       "      <td>0.0</td>\n",
       "      <td>0.0</td>\n",
       "      <td>0.0</td>\n",
       "      <td>0.0</td>\n",
       "      <td>0.0</td>\n",
       "      <td>0.0</td>\n",
       "      <td>0.0</td>\n",
       "      <td>0.0</td>\n",
       "      <td>0.0</td>\n",
       "      <td>...</td>\n",
       "      <td>0.0</td>\n",
       "      <td>0.0</td>\n",
       "      <td>0.0</td>\n",
       "      <td>0.0</td>\n",
       "      <td>0.0</td>\n",
       "      <td>0.0</td>\n",
       "      <td>0.0</td>\n",
       "      <td>0.000000</td>\n",
       "      <td>0.000000</td>\n",
       "      <td>0.0</td>\n",
       "    </tr>\n",
       "    <tr>\n",
       "      <th>Mian Rud, South Khorasan</th>\n",
       "      <td>0.0</td>\n",
       "      <td>0.0</td>\n",
       "      <td>0.0</td>\n",
       "      <td>0.0</td>\n",
       "      <td>0.0</td>\n",
       "      <td>0.0</td>\n",
       "      <td>0.0</td>\n",
       "      <td>0.0</td>\n",
       "      <td>0.0</td>\n",
       "      <td>0.0</td>\n",
       "      <td>...</td>\n",
       "      <td>0.0</td>\n",
       "      <td>0.0</td>\n",
       "      <td>0.0</td>\n",
       "      <td>0.0</td>\n",
       "      <td>0.0</td>\n",
       "      <td>0.0</td>\n",
       "      <td>0.0</td>\n",
       "      <td>0.149632</td>\n",
       "      <td>0.149632</td>\n",
       "      <td>0.0</td>\n",
       "    </tr>\n",
       "    <tr>\n",
       "      <th>Coat of arms of Hesse</th>\n",
       "      <td>0.0</td>\n",
       "      <td>0.0</td>\n",
       "      <td>0.0</td>\n",
       "      <td>0.0</td>\n",
       "      <td>0.0</td>\n",
       "      <td>0.0</td>\n",
       "      <td>0.0</td>\n",
       "      <td>0.0</td>\n",
       "      <td>0.0</td>\n",
       "      <td>0.0</td>\n",
       "      <td>...</td>\n",
       "      <td>0.0</td>\n",
       "      <td>0.0</td>\n",
       "      <td>0.0</td>\n",
       "      <td>0.0</td>\n",
       "      <td>0.0</td>\n",
       "      <td>0.0</td>\n",
       "      <td>0.0</td>\n",
       "      <td>0.000000</td>\n",
       "      <td>0.000000</td>\n",
       "      <td>0.0</td>\n",
       "    </tr>\n",
       "    <tr>\n",
       "      <th>Helsinki Police Department</th>\n",
       "      <td>0.0</td>\n",
       "      <td>0.0</td>\n",
       "      <td>0.0</td>\n",
       "      <td>0.0</td>\n",
       "      <td>0.0</td>\n",
       "      <td>0.0</td>\n",
       "      <td>0.0</td>\n",
       "      <td>0.0</td>\n",
       "      <td>0.0</td>\n",
       "      <td>0.0</td>\n",
       "      <td>...</td>\n",
       "      <td>0.0</td>\n",
       "      <td>0.0</td>\n",
       "      <td>0.0</td>\n",
       "      <td>0.0</td>\n",
       "      <td>0.0</td>\n",
       "      <td>0.0</td>\n",
       "      <td>0.0</td>\n",
       "      <td>0.000000</td>\n",
       "      <td>0.000000</td>\n",
       "      <td>0.0</td>\n",
       "    </tr>\n",
       "    <tr>\n",
       "      <th>Broadway Stages</th>\n",
       "      <td>0.0</td>\n",
       "      <td>0.0</td>\n",
       "      <td>0.0</td>\n",
       "      <td>0.0</td>\n",
       "      <td>0.0</td>\n",
       "      <td>0.0</td>\n",
       "      <td>0.0</td>\n",
       "      <td>0.0</td>\n",
       "      <td>0.0</td>\n",
       "      <td>0.0</td>\n",
       "      <td>...</td>\n",
       "      <td>0.0</td>\n",
       "      <td>0.0</td>\n",
       "      <td>0.0</td>\n",
       "      <td>0.0</td>\n",
       "      <td>0.0</td>\n",
       "      <td>0.0</td>\n",
       "      <td>0.0</td>\n",
       "      <td>0.000000</td>\n",
       "      <td>0.000000</td>\n",
       "      <td>0.0</td>\n",
       "    </tr>\n",
       "  </tbody>\n",
       "</table>\n",
       "<p>5 rows × 1678 columns</p>\n",
       "</div>"
      ],
      "text/plain": [
       "                            000  048   10  100  104   11  11th   12  122  \\\n",
       "Psilocybe yungensis         0.0  0.0  0.0  0.0  0.0  0.0   0.0  0.0  0.0   \n",
       "Mian Rud, South Khorasan    0.0  0.0  0.0  0.0  0.0  0.0   0.0  0.0  0.0   \n",
       "Coat of arms of Hesse       0.0  0.0  0.0  0.0  0.0  0.0   0.0  0.0  0.0   \n",
       "Helsinki Police Department  0.0  0.0  0.0  0.0  0.0  0.0   0.0  0.0  0.0   \n",
       "Broadway Stages             0.0  0.0  0.0  0.0  0.0  0.0   0.0  0.0  0.0   \n",
       "\n",
       "                            1245  ...  žigajevs  γεώργιος  ματσαδές  лука  \\\n",
       "Psilocybe yungensis          0.0  ...       0.0       0.0       0.0   0.0   \n",
       "Mian Rud, South Khorasan     0.0  ...       0.0       0.0       0.0   0.0   \n",
       "Coat of arms of Hesse        0.0  ...       0.0       0.0       0.0   0.0   \n",
       "Helsinki Police Department   0.0  ...       0.0       0.0       0.0   0.0   \n",
       "Broadway Stages              0.0  ...       0.0       0.0       0.0   0.0   \n",
       "\n",
       "                            اباد  الوجه  رحيم       رود      ميان   李莹  \n",
       "Psilocybe yungensis          0.0    0.0   0.0  0.000000  0.000000  0.0  \n",
       "Mian Rud, South Khorasan     0.0    0.0   0.0  0.149632  0.149632  0.0  \n",
       "Coat of arms of Hesse        0.0    0.0   0.0  0.000000  0.000000  0.0  \n",
       "Helsinki Police Department   0.0    0.0   0.0  0.000000  0.000000  0.0  \n",
       "Broadway Stages              0.0    0.0   0.0  0.000000  0.000000  0.0  \n",
       "\n",
       "[5 rows x 1678 columns]"
      ]
     },
     "execution_count": 5,
     "metadata": {},
     "output_type": "execute_result"
    }
   ],
   "source": [
    "tfidf=TfidfVectorizer(use_idf=True, smooth_idf=False) \n",
    " \n",
    "dfTFIDF = pd.DataFrame(tfidf.fit_transform(summaries).toarray(), index=articles, columns=tfidf.get_feature_names_out())\n",
    "dfTFIDF.head()"
   ]
  },
  {
   "cell_type": "code",
   "execution_count": 44,
   "metadata": {},
   "outputs": [
    {
     "data": {
      "text/plain": [
       "Helsinki Police Department    1.000000\n",
       "William Stephen Devery        0.243653\n",
       "American Country Awards       0.187301\n",
       "Al Wajh                       0.170382\n",
       "Oral Çalışlar                 0.153468\n",
       "dtype: float64"
      ]
     },
     "execution_count": 44,
     "metadata": {},
     "output_type": "execute_result"
    }
   ],
   "source": [
    "query = \"Helsinki Police Department\"\n",
    "mask = data['title'] == query\n",
    "pos = np.flatnonzero(mask)\n",
    "query_summary = data.iloc[3].summary\n",
    "\n",
    "query = tfidf.transform([query_summary]).toarray()[0] \n",
    "1-dfTFIDF.apply(lambda x: cosine(x, query), axis=1).sort_values()[:5]"
   ]
  },
  {
   "cell_type": "markdown",
   "metadata": {},
   "source": [
    "Okay, but we would like to apply it to a list of liked articles."
   ]
  },
  {
   "cell_type": "code",
   "execution_count": 50,
   "metadata": {},
   "outputs": [
    {
     "data": {
      "text/plain": [
       "{'Premier League Riders Championship': 0.11302723506333545,\n",
       " 'Coventry park and ride': 0.10927613278684178,\n",
       " '2011–12 TFF Second League': 0.1000549982196215,\n",
       " 'Oral Çalışlar': 0.0948534816098211,\n",
       " 'Al Wajh': 0.09321985666500554,\n",
       " 'Imperial Federation': 0.09253539882605322,\n",
       " 'Colony House (Keene, New Hampshire)': 0.08191057645710931,\n",
       " 'Nanne Zwiep': 0.08118278938818158,\n",
       " 'Fiat Materfer 7131': 0.0801357884906495,\n",
       " 'American Country Awards': 0.07882782690125212,\n",
       " 'Broadway Stages': 0.07619591112996194,\n",
       " 'Soul Food (soundtrack)': 0.07284127016878306,\n",
       " \"Breeders' Cup Distaff\": 0.06971602022934997,\n",
       " 'Coat of arms of Hesse': 0.06834832952998937,\n",
       " 'New Inn, Carmarthenshire': 0.06720504430532148,\n",
       " 'Leonard Arthur': 0.06560511115084555,\n",
       " 'Flipz': 0.06540895991810769,\n",
       " 'C. R. Crews': 0.0648517663341267,\n",
       " '2022 Sprecher 150': 0.06455015481668946,\n",
       " 'Rincão, Cape Verde': 0.06405298851577579,\n",
       " 'Psilocybe yungensis': 0.05939712004563091,\n",
       " 'Ark Walworth Academy': 0.05089316261737031,\n",
       " 'Puerto Rico national football team': 0.05070783455629779,\n",
       " 'Lois Delander': 0.04579662995209621,\n",
       " 'John S. Redditt': 0.04534509768965078,\n",
       " 'Auguste Simon Paris': 0.04312204725613167,\n",
       " 'Lake Chad (Antarctica)': 0.04240639572363736,\n",
       " 'Holywood Rudolf Steiner School': 0.034740595890647374,\n",
       " 'Rahimabad, Abarkuh': 0.031620531551048714,\n",
       " 'Purga United Church': 0.03160300466863841,\n",
       " 'Katinka Szijj': 0.030945687837633296,\n",
       " 'Luka, Gacko': 0.028635057505912,\n",
       " 'José Carlos Granero': 0.025669058731037864,\n",
       " 'Plumbago caerulea': 0.023725557745268744,\n",
       " 'Texas State Highway 279': 0.023713574539536597,\n",
       " 'Japan National Route 296': 0.02247398802053524,\n",
       " 'Li Ying (volleyball, born 1988)': 0.02109564621225879,\n",
       " 'Falborek': 0.020748445315783237,\n",
       " 'Sinoporus': 0.020028014514076875,\n",
       " 'Mian Rud, South Khorasan': 0.0178788613697336,\n",
       " 'Georgios Matsades': 0.01637611937541572,\n",
       " 'Arnarvon Islands': 0.01500471434389139,\n",
       " 'Round Harbour, Fortune Bay, Newfoundland and Labrador': 0.011833977725564604,\n",
       " 'Jurijs Žigajevs': 0.011308738106337812,\n",
       " 'Alex De Rakoff': 0.008511646047972166,\n",
       " 'Pavao (given name)': 0.005100259586739209,\n",
       " 'Joseph Maria Christen': 0.00408094303579587,\n",
       " 'Cimemoxin': 0.0040316581700067244}"
      ]
     },
     "execution_count": 50,
     "metadata": {},
     "output_type": "execute_result"
    }
   ],
   "source": [
    "liked_articles = [\"Helsinki Police Department\", \"William Stephen Devery\"]\n",
    "\n",
    "scores = {}\n",
    "for l_article in liked_articles:\n",
    "    mask = data['title'] == l_article\n",
    "    pos = np.flatnonzero(mask)\n",
    "    query_summary = data.iloc[pos[0]].summary\n",
    "\n",
    "    query = tfidf.transform([query_summary]).toarray()[0] \n",
    "    score_board = 1 - dfTFIDF.apply(lambda x: cosine(x, query), axis=1)\n",
    "    for article in score_board.keys():\n",
    "        if article in scores.keys():\n",
    "            scores[article] += score_board[article] / len(liked_articles)\n",
    "        else:\n",
    "            scores[article] = score_board[article] / len(liked_articles)\n",
    "\n",
    "sorted_scores = {k: v for k, v in sorted(score_board.items(), key=lambda item: -item[1])}\n",
    "for l_article in liked_articles:\n",
    "    sorted_scores.pop(l_article)\n",
    "sorted_scores"
   ]
  }
 ],
 "metadata": {
  "kernelspec": {
   "display_name": "Python 3.8.3 ('tensor')",
   "language": "python",
   "name": "python3"
  },
  "language_info": {
   "codemirror_mode": {
    "name": "ipython",
    "version": 3
   },
   "file_extension": ".py",
   "mimetype": "text/x-python",
   "name": "python",
   "nbconvert_exporter": "python",
   "pygments_lexer": "ipython3",
   "version": "3.8.3"
  },
  "orig_nbformat": 4,
  "vscode": {
   "interpreter": {
    "hash": "8267083643c566585343ab60a0d1bac4aa9b9691d5fca7cd9cf8a09021580d4c"
   }
  }
 },
 "nbformat": 4,
 "nbformat_minor": 2
}
