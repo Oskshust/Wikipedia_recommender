{
 "cells": [
  {
   "cell_type": "markdown",
   "metadata": {},
   "source": [
    "* Oskar Szudzik 148245\n",
    "* Krystian Moras 148243"
   ]
  },
  {
   "cell_type": "markdown",
   "metadata": {},
   "source": [
    "1. Step - downloading 1000 wiki articles"
   ]
  },
  {
   "cell_type": "code",
   "execution_count": 1,
   "metadata": {},
   "outputs": [],
   "source": [
    "import random\n",
    "import wikipedia"
   ]
  },
  {
   "cell_type": "code",
   "execution_count": 2,
   "metadata": {},
   "outputs": [],
   "source": [
    "content_to_search = ['Star Wars']\n",
    "articles = {}\n",
    "results = wikipedia.search(content_to_search[0], suggestion=True)\n",
    "while len(articles.keys()) < 1:\n",
    "    try:\n",
    "        page = wikipedia.page(random.choice(results)).\n",
    "    except:\n",
    "        continue\n",
    "    articles[page.title] = page\n",
    "    results = page.links\n"
   ]
  },
  {
   "cell_type": "code",
   "execution_count": 11,
   "metadata": {},
   "outputs": [
    {
     "data": {
      "text/plain": [
       "<WikipediaPage 'Nita Strauss'>"
      ]
     },
     "execution_count": 11,
     "metadata": {},
     "output_type": "execute_result"
    }
   ],
   "source": [
    "\n",
    "article = articles[\"Nita Strauss\"]\n",
    "article"
   ]
  },
  {
   "cell_type": "code",
   "execution_count": 45,
   "metadata": {},
   "outputs": [],
   "source": [
    "import nltk\n",
    "\n",
    "from nltk.stem import PorterStemmer\n",
    "from nltk.stem import LancasterStemmer\n",
    "from nltk.stem import WordNetLemmatizer\n",
    "from nltk.corpus import stopwords\n",
    "\n",
    "\n",
    "from nltk.tokenize import word_tokenize, wordpunct_tokenize, sent_tokenize\n",
    "porter = PorterStemmer()\n",
    "lancaster = LancasterStemmer()\n",
    "wordnet = WordNetLemmatizer()"
   ]
  },
  {
   "cell_type": "code",
   "execution_count": 35,
   "metadata": {},
   "outputs": [
    {
     "data": {
      "text/plain": [
       "['nita strauss (born december 7, 1986) is an american rock musician. she is currently demi lovato’s touring guitarist and was a former touring guitarist for alice cooper from 2014 to 2022 and has a successful career as a solo artist. strauss was the first female signature artist with ibanez guitars and is regularly featured on the covers of worldwide print magazines including guitar world and guitar player. she was ranked no. 1 on guitar world\\'s list of \"10 female guitar players you should know\".   ',\n",
       " \" strauss started touring with her own band lia-fail as a teenager, leaving high school in her junior year to pursue music full time; the band included future world champion boxer mikaela mayer. although initially known for her work with iron maiden all-female tribute band the iron maidens, strauss' career has included performing with several rock ensembles including consume the fire, femme fatale, and the video-game supergroup critical hit.in 2014, strauss was the official in-house guitarist for the los angeles kiss (la kiss), the arena football team owned by paul stanley and gene simmons of kiss. the house band played the national anthem and provided additional music during the games.in june 2014, strauss was hired to replace orianthi as alice cooper's touring guitarist for the remaining 2014 tour dates. she toured with alice cooper until july 2022, when she announced her departure from the touring band. a few days later, strauss announced that she had joined demi lovato's backing band as a touring guitarist. strauss is featured as the main guitarist for seven songs on docker's guild album called the heisenberg diaries – book a: sounds of future past, released on january 21, 2016.strauss appeared in the 2017 netflix documentary hired gun.   \",\n",
       " '   ',\n",
       " '',\n",
       " ' in april 2018, strauss launched a kickstarter campaign for her debut solo record controlled chaos. the campaign was successfully funded in two hours and eventually raised eight times its initial goal. strauss produced the record herself, including the majority of the engineering work, and played all of the guitars and bass on the record.after the record was completed, strauss signed with sumerian records to release and distribute the album worldwide. the first single, \"our most desperate hour\", was released in september 2018 along with pre-orders for the record on both cd and vinyl, with the vinyl completely selling out before release. controlled chaos debuted on the billboard charts at no. 1 top new artist, no. 3 label independent, no. 4 top hard music, no. 8 top rock, no. 8 top internet, no. 20 top albums, and no. 7 on the itunes rock chart. the album\\'s second single, \"mariana trench\", was chosen by wwe as the official theme for nxt takeover: wargames (2018).   ',\n",
       " '',\n",
       " ' strauss was introduced to world wrestling entertainment by her boyfriend josh villalta. she initially started watching because it was important to him, but quickly became a fan herself.strauss started performing live at wwe pay-per-view events in 2018. in april 2018, strauss played shinsuke nakamura\\'s entrance music at wrestlemania 34 in new orleans in front of an audience of 78,000 fans and millions more who watched the worldwide streaming event. on october 28, strauss performed with lzzy hale at wwe evolution. her original song \"mariana trench\" was chosen by triple h as the official theme for nxt takeover: wargames.   ',\n",
       " ' strauss performed the star spangled banner at the 2017 rock on the range in columbus, ohio.strauss also performed the star spangled banner for the 2022 wise power 400 at auto club speedway.   ',\n",
       " ' in january 2018, strauss became the first ever female ibanez signature artist with her own model guitar, the ibanez jiva10. dimarzio later released their pandemonium humbuckers, signature pickups that were developed especially for her jiva ibanez guitar.on january 26, 2019, strauss was honored at the 7th annual she rocks awards with the \"inspire award\", presented to her by nick bowcott and her personal hero, steve vai.https://loudwire.com/nita-strauss-first-active-rock-solo-female-chart-topper/ on january 9, 2022, strauss became the first female rock solo artist in 32 years to hit number one on billboard\\'s mainstream rock chart with her song \"dead inside\".   ',\n",
       " ' strauss teaches guitar playing, and has gone on teaching tours offering master class in the us, canada, uk, europe, south america, and asia. she has written articles and recorded companion videos for guitar world and premier guitar magazines.strauss and fellow musicians rabea massaad and plini were selected as celebrity judges to choose the \"2019 young guitarist of the year\" at the uk guitar show.   ',\n",
       " ' strauss says she is a descendant of austrian composer johann strauss through her father. her sister, varsha strauss, is married to panji adhikumoro, grandson of suharto, 2nd president of indonesia from his son, bambang trihatmodjo.strauss is an avid fan of the los angeles rams, she frequently appears at rams games at sofi stadium, performing interludes or playing riffs out to the stadium to start crowd chants. strauss was honored to play \"america the beautiful\" at the rams’ salute to service game in november 2018.   ',\n",
       " ' strauss is a fitness enthusiast, practicing strength training, muay thai and brazilian jiu-jitsu, and posts blogs about fitness issues on social media. she has been featured in muscle & fitness and bodybuilding.com. in 2019, strauss launched the nita strauss: body shred fitness challenge, with a companion e-book titled body shred: your guide to feeling and looking like a rock star.   ',\n",
       " \" strauss has recorded with alice cooper, jamie christopherson, critical hit, docker's guild, fb1964, metal allegiance, kane roberts and we start wars. she has been featured on albums by maxxxwell carlisle, tina guo and angel vivaldi, as well as the all-female compilation album she rocks. she has played on dozens of albums, trailers and soundtracks, including heroes of the storm and metal gear rising: revengeance. strauss released her first instrumental solo album, controlled chaos, on november 16, 2018.   \",\n",
       " '   ',\n",
       " ' johnny young - rhythm guitar christopher dean - bass katt scarlett - keyboard josh villalta - drums   ',\n",
       " '   ',\n",
       " ' femme fatale the iron maidens   ',\n",
       " '   ',\n",
       " \" official website  nita strauss at imdb consume the fire on facebook critical hit website docker's guild website the guitar collective on facebook kill slowly on facebook the star breakers on facebook we start wars on facebook\"]"
      ]
     },
     "execution_count": 35,
     "metadata": {},
     "output_type": "execute_result"
    }
   ],
   "source": [
    "import re\n",
    "paragraphs = re.split(\"(?<=[=]{2}).*(?=[=]{2})\",article.content)\n",
    "\n",
    "paragraphs = [porter.stem(paragraph.replace(\"=\", \"\").replace(\"\\n\",\" \")) for paragraph in paragraphs]\n",
    "paragraphs"
   ]
  },
  {
   "cell_type": "markdown",
   "metadata": {},
   "source": [
    "idea : **titles** are especially important for article similarity"
   ]
  },
  {
   "cell_type": "code",
   "execution_count": 36,
   "metadata": {},
   "outputs": [
    {
     "data": {
      "text/plain": [
       "[' Career ',\n",
       " '= Solo artist =',\n",
       " '== Controlled Chaos ==',\n",
       " '',\n",
       " '== WWE ==',\n",
       " '',\n",
       " '= Special appearances =',\n",
       " ' Recognition ',\n",
       " ' Teacher and mentor ',\n",
       " ' Personal life ',\n",
       " '= Health and fitness =',\n",
       " ' Discography ',\n",
       " '= Singles =',\n",
       " ' Live band ',\n",
       " ' Filmography ',\n",
       " ' See also ',\n",
       " ' References ',\n",
       " ' External links ']"
      ]
     },
     "execution_count": 36,
     "metadata": {},
     "output_type": "execute_result"
    }
   ],
   "source": [
    "titles  = re.findall(\"(?<=[=]{2}).*(?=[=]{2})\",article.content)\n",
    "titles"
   ]
  },
  {
   "cell_type": "markdown",
   "metadata": {},
   "source": [
    "split to sentence, word"
   ]
  },
  {
   "cell_type": "code",
   "execution_count": 47,
   "metadata": {},
   "outputs": [
    {
     "name": "stdout",
     "output_type": "stream",
     "text": [
      "[['nita', 'strauss', '(', 'born', 'december', '7', ',', '1986', ')', 'is', 'an', 'american', 'rock', 'musician', '.'], ['she', 'is', 'currently', 'demi', 'lovato', '’', 's', 'touring', 'guitarist', 'and', 'was', 'a', 'former', 'touring', 'guitarist', 'for', 'alice', 'cooper', 'from', '2014', 'to', '2022', 'and', 'has', 'a', 'successful', 'career', 'as', 'a', 'solo', 'artist', '.'], ['strauss', 'was', 'the', 'first', 'female', 'signature', 'artist', 'with', 'ibanez', 'guitars', 'and', 'is', 'regularly', 'featured', 'on', 'the', 'covers', 'of', 'worldwide', 'print', 'magazines', 'including', 'guitar', 'world', 'and', 'guitar', 'player', '.'], ['she', 'was', 'ranked', 'no', '.'], ['1', 'on', 'guitar', 'world', \"'s\", 'list', 'of', '``', '10', 'female', 'guitar', 'players', 'you', 'should', 'know', \"''\", '.']]\n",
      "[['strauss', 'started', 'touring', 'with', 'her', 'own', 'band', 'lia-fail', 'as', 'a', 'teenager', ',', 'leaving', 'high', 'school', 'in', 'her', 'junior', 'year', 'to', 'pursue', 'music', 'full', 'time', ';', 'the', 'band', 'included', 'future', 'world', 'champion', 'boxer', 'mikaela', 'mayer', '.'], ['although', 'initially', 'known', 'for', 'her', 'work', 'with', 'iron', 'maiden', 'all-female', 'tribute', 'band', 'the', 'iron', 'maidens', ',', 'strauss', \"'\", 'career', 'has', 'included', 'performing', 'with', 'several', 'rock', 'ensembles', 'including', 'consume', 'the', 'fire', ',', 'femme', 'fatale', ',', 'and', 'the', 'video-game', 'supergroup', 'critical', 'hit.in', '2014', ',', 'strauss', 'was', 'the', 'official', 'in-house', 'guitarist', 'for', 'the', 'los', 'angeles', 'kiss', '(', 'la', 'kiss', ')', ',', 'the', 'arena', 'football', 'team', 'owned', 'by', 'paul', 'stanley', 'and', 'gene', 'simmons', 'of', 'kiss', '.'], ['the', 'house', 'band', 'played', 'the', 'national', 'anthem', 'and', 'provided', 'additional', 'music', 'during', 'the', 'games.in', 'june', '2014', ',', 'strauss', 'was', 'hired', 'to', 'replace', 'orianthi', 'as', 'alice', 'cooper', \"'s\", 'touring', 'guitarist', 'for', 'the', 'remaining', '2014', 'tour', 'dates', '.'], ['she', 'toured', 'with', 'alice', 'cooper', 'until', 'july', '2022', ',', 'when', 'she', 'announced', 'her', 'departure', 'from', 'the', 'touring', 'band', '.'], ['a', 'few', 'days', 'later', ',', 'strauss', 'announced', 'that', 'she', 'had', 'joined', 'demi', 'lovato', \"'s\", 'backing', 'band', 'as', 'a', 'touring', 'guitarist', '.'], ['strauss', 'is', 'featured', 'as', 'the', 'main', 'guitarist', 'for', 'seven', 'songs', 'on', 'docker', \"'s\", 'guild', 'album', 'called', 'the', 'heisenberg', 'diaries', '–', 'book', 'a', ':', 'sounds', 'of', 'future', 'past', ',', 'released', 'on', 'january', '21', ',', '2016.strauss', 'appeared', 'in', 'the', '2017', 'netflix', 'documentary', 'hired', 'gun', '.']]\n",
      "[]\n",
      "[]\n",
      "[['in', 'april', '2018', ',', 'strauss', 'launched', 'a', 'kickstarter', 'campaign', 'for', 'her', 'debut', 'solo', 'record', 'controlled', 'chaos', '.'], ['the', 'campaign', 'was', 'successfully', 'funded', 'in', 'two', 'hours', 'and', 'eventually', 'raised', 'eight', 'times', 'its', 'initial', 'goal', '.'], ['strauss', 'produced', 'the', 'record', 'herself', ',', 'including', 'the', 'majority', 'of', 'the', 'engineering', 'work', ',', 'and', 'played', 'all', 'of', 'the', 'guitars', 'and', 'bass', 'on', 'the', 'record.after', 'the', 'record', 'was', 'completed', ',', 'strauss', 'signed', 'with', 'sumerian', 'records', 'to', 'release', 'and', 'distribute', 'the', 'album', 'worldwide', '.'], ['the', 'first', 'single', ',', '``', 'our', 'most', 'desperate', 'hour', \"''\", ',', 'was', 'released', 'in', 'september', '2018', 'along', 'with', 'pre-orders', 'for', 'the', 'record', 'on', 'both', 'cd', 'and', 'vinyl', ',', 'with', 'the', 'vinyl', 'completely', 'selling', 'out', 'before', 'release', '.'], ['controlled', 'chaos', 'debuted', 'on', 'the', 'billboard', 'charts', 'at', 'no', '.'], ['1', 'top', 'new', 'artist', ',', 'no', '.'], ['3', 'label', 'independent', ',', 'no', '.'], ['4', 'top', 'hard', 'music', ',', 'no', '.'], ['8', 'top', 'rock', ',', 'no', '.'], ['8', 'top', 'internet', ',', 'no', '.'], ['20', 'top', 'albums', ',', 'and', 'no', '.'], ['7', 'on', 'the', 'itunes', 'rock', 'chart', '.'], ['the', 'album', \"'s\", 'second', 'single', ',', '``', 'mariana', 'trench', \"''\", ',', 'was', 'chosen', 'by', 'wwe', 'as', 'the', 'official', 'theme', 'for', 'nxt', 'takeover', ':', 'wargames', '(', '2018', ')', '.']]\n",
      "[]\n",
      "[['strauss', 'was', 'introduced', 'to', 'world', 'wrestling', 'entertainment', 'by', 'her', 'boyfriend', 'josh', 'villalta', '.'], ['she', 'initially', 'started', 'watching', 'because', 'it', 'was', 'important', 'to', 'him', ',', 'but', 'quickly', 'became', 'a', 'fan', 'herself.strauss', 'started', 'performing', 'live', 'at', 'wwe', 'pay-per-view', 'events', 'in', '2018.', 'in', 'april', '2018', ',', 'strauss', 'played', 'shinsuke', 'nakamura', \"'s\", 'entrance', 'music', 'at', 'wrestlemania', '34', 'in', 'new', 'orleans', 'in', 'front', 'of', 'an', 'audience', 'of', '78,000', 'fans', 'and', 'millions', 'more', 'who', 'watched', 'the', 'worldwide', 'streaming', 'event', '.'], ['on', 'october', '28', ',', 'strauss', 'performed', 'with', 'lzzy', 'hale', 'at', 'wwe', 'evolution', '.'], ['her', 'original', 'song', '``', 'mariana', 'trench', \"''\", 'was', 'chosen', 'by', 'triple', 'h', 'as', 'the', 'official', 'theme', 'for', 'nxt', 'takeover', ':', 'wargames', '.']]\n",
      "[['strauss', 'performed', 'the', 'star', 'spangled', 'banner', 'at', 'the', '2017', 'rock', 'on', 'the', 'range', 'in', 'columbus', ',', 'ohio.strauss', 'also', 'performed', 'the', 'star', 'spangled', 'banner', 'for', 'the', '2022', 'wise', 'power', '400', 'at', 'auto', 'club', 'speedway', '.']]\n",
      "[['in', 'january', '2018', ',', 'strauss', 'became', 'the', 'first', 'ever', 'female', 'ibanez', 'signature', 'artist', 'with', 'her', 'own', 'model', 'guitar', ',', 'the', 'ibanez', 'jiva10', '.'], ['dimarzio', 'later', 'released', 'their', 'pandemonium', 'humbuckers', ',', 'signature', 'pickups', 'that', 'were', 'developed', 'especially', 'for', 'her', 'jiva', 'ibanez', 'guitar.on', 'january', '26', ',', '2019', ',', 'strauss', 'was', 'honored', 'at', 'the', '7th', 'annual', 'she', 'rocks', 'awards', 'with', 'the', '``', 'inspire', 'award', \"''\", ',', 'presented', 'to', 'her', 'by', 'nick', 'bowcott', 'and', 'her', 'personal', 'hero', ',', 'steve', 'vai.https', ':', '//loudwire.com/nita-strauss-first-active-rock-solo-female-chart-topper/', 'on', 'january', '9', ',', '2022', ',', 'strauss', 'became', 'the', 'first', 'female', 'rock', 'solo', 'artist', 'in', '32', 'years', 'to', 'hit', 'number', 'one', 'on', 'billboard', \"'s\", 'mainstream', 'rock', 'chart', 'with', 'her', 'song', '``', 'dead', 'inside', \"''\", '.']]\n",
      "[['strauss', 'teaches', 'guitar', 'playing', ',', 'and', 'has', 'gone', 'on', 'teaching', 'tours', 'offering', 'master', 'class', 'in', 'the', 'us', ',', 'canada', ',', 'uk', ',', 'europe', ',', 'south', 'america', ',', 'and', 'asia', '.'], ['she', 'has', 'written', 'articles', 'and', 'recorded', 'companion', 'videos', 'for', 'guitar', 'world', 'and', 'premier', 'guitar', 'magazines.strauss', 'and', 'fellow', 'musicians', 'rabea', 'massaad', 'and', 'plini', 'were', 'selected', 'as', 'celebrity', 'judges', 'to', 'choose', 'the', '``', '2019', 'young', 'guitarist', 'of', 'the', 'year', \"''\", 'at', 'the', 'uk', 'guitar', 'show', '.']]\n",
      "[['strauss', 'says', 'she', 'is', 'a', 'descendant', 'of', 'austrian', 'composer', 'johann', 'strauss', 'through', 'her', 'father', '.'], ['her', 'sister', ',', 'varsha', 'strauss', ',', 'is', 'married', 'to', 'panji', 'adhikumoro', ',', 'grandson', 'of', 'suharto', ',', '2nd', 'president', 'of', 'indonesia', 'from', 'his', 'son', ',', 'bambang', 'trihatmodjo.strauss', 'is', 'an', 'avid', 'fan', 'of', 'the', 'los', 'angeles', 'rams', ',', 'she', 'frequently', 'appears', 'at', 'rams', 'games', 'at', 'sofi', 'stadium', ',', 'performing', 'interludes', 'or', 'playing', 'riffs', 'out', 'to', 'the', 'stadium', 'to', 'start', 'crowd', 'chants', '.'], ['strauss', 'was', 'honored', 'to', 'play', '``', 'america', 'the', 'beautiful', \"''\", 'at', 'the', 'rams', '’', 'salute', 'to', 'service', 'game', 'in', 'november', '2018', '.']]\n",
      "[['strauss', 'is', 'a', 'fitness', 'enthusiast', ',', 'practicing', 'strength', 'training', ',', 'muay', 'thai', 'and', 'brazilian', 'jiu-jitsu', ',', 'and', 'posts', 'blogs', 'about', 'fitness', 'issues', 'on', 'social', 'media', '.'], ['she', 'has', 'been', 'featured', 'in', 'muscle', '&', 'fitness', 'and', 'bodybuilding.com', '.'], ['in', '2019', ',', 'strauss', 'launched', 'the', 'nita', 'strauss', ':', 'body', 'shred', 'fitness', 'challenge', ',', 'with', 'a', 'companion', 'e-book', 'titled', 'body', 'shred', ':', 'your', 'guide', 'to', 'feeling', 'and', 'looking', 'like', 'a', 'rock', 'star', '.']]\n",
      "[['strauss', 'has', 'recorded', 'with', 'alice', 'cooper', ',', 'jamie', 'christopherson', ',', 'critical', 'hit', ',', 'docker', \"'s\", 'guild', ',', 'fb1964', ',', 'metal', 'allegiance', ',', 'kane', 'roberts', 'and', 'we', 'start', 'wars', '.'], ['she', 'has', 'been', 'featured', 'on', 'albums', 'by', 'maxxxwell', 'carlisle', ',', 'tina', 'guo', 'and', 'angel', 'vivaldi', ',', 'as', 'well', 'as', 'the', 'all-female', 'compilation', 'album', 'she', 'rocks', '.'], ['she', 'has', 'played', 'on', 'dozens', 'of', 'albums', ',', 'trailers', 'and', 'soundtracks', ',', 'including', 'heroes', 'of', 'the', 'storm', 'and', 'metal', 'gear', 'rising', ':', 'revengeance', '.'], ['strauss', 'released', 'her', 'first', 'instrumental', 'solo', 'album', ',', 'controlled', 'chaos', ',', 'on', 'november', '16', ',', '2018', '.']]\n",
      "[]\n",
      "[['johnny', 'young', '-', 'rhythm', 'guitar', 'christopher', 'dean', '-', 'bass', 'katt', 'scarlett', '-', 'keyboard', 'josh', 'villalta', '-', 'drums']]\n",
      "[]\n",
      "[['femme', 'fatale', 'the', 'iron', 'maidens']]\n",
      "[]\n",
      "[['official', 'website', 'nita', 'strauss', 'at', 'imdb', 'consume', 'the', 'fire', 'on', 'facebook', 'critical', 'hit', 'website', 'docker', \"'s\", 'guild', 'website', 'the', 'guitar', 'collective', 'on', 'facebook', 'kill', 'slowly', 'on', 'facebook', 'the', 'star', 'breakers', 'on', 'facebook', 'we', 'start', 'wars', 'on', 'facebook']]\n"
     ]
    }
   ],
   "source": [
    "for paragraph in paragraphs:\n",
    "    print([word_tokenize(sentence) for sentence in sent_tokenize(paragraph)])"
   ]
  },
  {
   "cell_type": "markdown",
   "metadata": {},
   "source": [
    "Bag of words? word embeddings? "
   ]
  },
  {
   "cell_type": "code",
   "execution_count": null,
   "metadata": {},
   "outputs": [],
   "source": []
  },
  {
   "cell_type": "markdown",
   "metadata": {},
   "source": [
    "article data summary, number of words etc."
   ]
  },
  {
   "cell_type": "markdown",
   "metadata": {},
   "source": [
    "pick 2 show visualize similarity"
   ]
  },
  {
   "cell_type": "code",
   "execution_count": null,
   "metadata": {},
   "outputs": [],
   "source": []
  }
 ],
 "metadata": {
  "kernelspec": {
   "display_name": "Python 3.11.0 64-bit",
   "language": "python",
   "name": "python3"
  },
  "language_info": {
   "codemirror_mode": {
    "name": "ipython",
    "version": 3
   },
   "file_extension": ".py",
   "mimetype": "text/x-python",
   "name": "python",
   "nbconvert_exporter": "python",
   "pygments_lexer": "ipython3",
   "version": "3.11.0"
  },
  "orig_nbformat": 4,
  "vscode": {
   "interpreter": {
    "hash": "38c40f84099447a5d5a27c4e7b50c3a266ddffacb67b58349291a29d898c5709"
   }
  }
 },
 "nbformat": 4,
 "nbformat_minor": 2
}
